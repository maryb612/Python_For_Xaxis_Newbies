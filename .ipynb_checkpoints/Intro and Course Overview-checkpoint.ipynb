{
 "cells": [
  {
   "cell_type": "markdown",
   "metadata": {},
   "source": [
    "# Python for Xaxis Newbies"
   ]
  },
  {
   "cell_type": "markdown",
   "metadata": {},
   "source": [
    "## Purpose and Goals"
   ]
  },
  {
   "cell_type": "markdown",
   "metadata": {},
   "source": [
    "- For participants to get a base knowledge of Python and be comfortable using Python as a resource for their day to day jobs\n",
    "- To find a project and apply your Python skills - whether it be automating, data analysis, building a model, etc - the world is your oyster!\n",
    "\n",
    "**What this course won't do**\n",
    "- Make you an expert on Python "
   ]
  },
  {
   "cell_type": "markdown",
   "metadata": {},
   "source": [
    "## Python Stack\n",
    "- We'll be using Jupyter Notebooks and Python 3.7. You should all have this installed on your computers."
   ]
  },
  {
   "cell_type": "markdown",
   "metadata": {},
   "source": [
    "## Course Curriculum\n",
    "\n",
    "- Course will be a mixture of Lectures/Demos, code-alongs, quizzes and tests, with a final project at the end.\n",
    "- We will meet once per week for an hour. Please be on-time to meetings so we can start promptly. \n",
    "- Please feel free to message myself or Sara with any questions about the materials, quizzes, tests or projects."
   ]
  },
  {
   "cell_type": "markdown",
   "metadata": {},
   "source": [
    "### Weeks 1-2: Python Data Types & Variable Assignment\n",
    "#### Topics\n",
    "- Numbers\n",
    "- Variable Assignments\n",
    "- Strings\n",
    "- Printing & Print Formatting\n",
    "- Lists\n",
    "- Dictionaries\n",
    "- Tuples & Sets\n",
    "- Booleans\n",
    "- Optional: File I/O\n",
    "\n",
    "#### Assignments\n",
    "- Quiz 1: Numbers, Strings and Printing\n",
    "- Quiz 2: Lists, Dictionaries, Sets\n",
    "- Test on Materials from Weeks 1 & 2"
   ]
  },
  {
   "cell_type": "markdown",
   "metadata": {},
   "source": [
    "### Weeks 3-5: Comparison Operators, Statements and Functions\n",
    "#### Topics\n",
    "- Comparison Operators\n",
    "- Chaining Comparison Operators\n",
    "- Flow Control (if, elif, else)\n",
    "- For Loops\n",
    "- While Loops\n",
    "- Useful Operators (range, enumerate, zip, in)\n",
    "- List Comprehensions\n",
    "- Methods\n",
    "- Functions\n",
    "- Lambda Expressions\n",
    "\n",
    "#### Assignments\n",
    "- Quiz 3: Comparison Operators & Flow Control\n",
    "- Quiz 4: Loops & Useful Operators\n",
    "- Quiz 5: Functions"
   ]
  },
  {
   "cell_type": "markdown",
   "metadata": {},
   "source": [
    "## Weeks 6-7: Pandas"
   ]
  },
  {
   "cell_type": "markdown",
   "metadata": {},
   "source": [
    "#### Topics\n",
    "- Series\n",
    "- DataFrames\n",
    "- Selecting and Indexing\n",
    "- Conditional Selecting\n",
    "- Handling Missing Data\n",
    "- Aggregating (GroupBy & Pivots)\n",
    "- Summarizing (Min, Max, Mean, Count, Describe\n",
    "- Merging, Joining & Concatenating\n",
    "- Useful Pandas Operations\n",
    "- Reading & Writing Data\n",
    "- Optional: BigQuery & Pandas\n",
    "\n",
    "#### Assignments\n",
    "- Quiz 6: Pandas Exercises"
   ]
  },
  {
   "cell_type": "markdown",
   "metadata": {},
   "source": [
    "## Weeks 8-9: Data Visualization with Python\n",
    "\n",
    "#### Topics\n",
    "- Basic Plotting with Matplotlib\n",
    "- Objects, Subplots & Figures\n",
    "- Legends, Labels and Titles\n",
    "- Setting Colors, Linewidths\n",
    "- Statistical Plots with Seaborn\n",
    "- Categoriacal Plots with Seaborn\n",
    "- Heatmaps with Seaborn\n",
    "- Seaborn Styling and Coloring\n",
    "\n",
    "#### Assignments\n",
    "- Quiz 7: Matplotlib Exercises\n",
    "- Quiz 8: Seaborn Exercises"
   ]
  },
  {
   "cell_type": "markdown",
   "metadata": {},
   "source": [
    "## Weeks 10-11: Capstone Project\n",
    "\n",
    "#### Assignment\n",
    "Take the knowledge that you've gained in the past 9 weeks and put together an analysis with Xaxis data using the Python techniques you've learned in this course. This can be anything from automating a frequent excel report, visualizing data for a wrap up in Python, or any other application you can think of! "
   ]
  },
  {
   "cell_type": "markdown",
   "metadata": {},
   "source": [
    "## Week 12: Capstone Project Presentation Competition"
   ]
  },
  {
   "cell_type": "markdown",
   "metadata": {},
   "source": [
    "**Take your projects, present them to the group in our capstone session, and judges will vote on the winners! Criteria to be determined, but there will be food provided!**"
   ]
  },
  {
   "cell_type": "markdown",
   "metadata": {},
   "source": [
    "Participants:\n",
    "- Kelvin\n",
    "- Anna\n",
    "- Ramy\n",
    "- Porsha\n",
    "- Jiali\n",
    "- Mary\n",
    "- Leah?"
   ]
  },
  {
   "cell_type": "code",
   "execution_count": null,
   "metadata": {},
   "outputs": [],
   "source": []
  }
 ],
 "metadata": {
  "kernelspec": {
   "display_name": "Python 3",
   "language": "python",
   "name": "python3"
  },
  "language_info": {
   "codemirror_mode": {
    "name": "ipython",
    "version": 3
   },
   "file_extension": ".py",
   "mimetype": "text/x-python",
   "name": "python",
   "nbconvert_exporter": "python",
   "pygments_lexer": "ipython3",
   "version": "3.7.3"
  }
 },
 "nbformat": 4,
 "nbformat_minor": 2
}
